{
 "cells": [
  {
   "cell_type": "markdown",
   "metadata": {},
   "source": [
    "Before you turn this problem in, make sure everything runs as expected. First, **restart the kernel** (in the menubar, select Kernel$\\rightarrow$Restart) and then **run all cells** (in the menubar, select Cell$\\rightarrow$Run All).\n",
    "\n",
    "Note that this Pre-class Work is estimated to take **1 hour and 30 minutes**.\n",
    "\n",
    "Make sure you fill in any place that says `YOUR CODE HERE` or \"YOUR ANSWER HERE\", as well as your name and collaborators below:"
   ]
  },
  {
   "cell_type": "code",
   "execution_count": null,
   "metadata": {},
   "outputs": [],
   "source": [
    "NAME = \"FNU Eisha\"\n",
    "COLLABORATORS = \"FNU Eisha\"\n",
    "#online resources used for guidance"
   ]
  },
  {
   "cell_type": "markdown",
   "metadata": {},
   "source": [
    "---"
   ]
  },
  {
   "cell_type": "markdown",
   "metadata": {
    "deletable": false,
    "editable": false,
    "nbgrader": {
     "checksum": "ff3288a2b0acfc2e2f917a549d038e5c",
     "grade": false,
     "grade_id": "cell-9e44910e5a73668d",
     "locked": true,
     "schema_version": 1,
     "solution": false
    }
   },
   "source": [
    "# CS110 Pre-class Work - Mergesort and recurrences\n",
    "\n",
    "## Question 1 [time estimate: 20 minutes]\n",
    "\n",
    "First, please read carefully [this note](https://drive.google.com/open?id=1SfrRTKWDb6szsJENgvNF7-u2B96ecaF2), which reviews the MERGE operation in Cormen et al.\n",
    "\n",
    "After reviewing the example above (Cormen et al., Figure 2.3),  you need to manually create similar illustrations as in the example above but this time for the input array:\n",
    "\n",
    "![array](array.png)\n",
    "\n",
    "For this exercise, assume that the call to the algorithm is MERGE(A, 1, 3, 6) and draw different resulting stages of the arrays A, L, and R as the merge algorithm is executed.  You can hand-draw or use any drawing tool to produce panel illustrations, as in the example above.  Include your final drawings in the cell below. Feel free to use additional cells (Markdown or Code) for this question.\n",
    "\n",
    "**Note**: ```MERGE``` function is to combine two lists together, not to create a sorted list. Please check the parameters carefully to correctly identify two sub-lists you need to merge."
   ]
  },
  {
   "cell_type": "markdown",
   "metadata": {
    "deletable": false,
    "nbgrader": {
     "checksum": "b4d0caf51fb6b587f68db4e806af35d0",
     "grade": true,
     "grade_id": "cell-badbff7790708987",
     "locked": false,
     "points": 0,
     "schema_version": 1,
     "solution": true
    }
   },
   "source": [
    "#I was not able to include a drawing, so I will explain the process here in text:\n",
    "\n",
    "count = 0\n",
    "\n",
    "Let A = [2, 6, 7, 8, 1, 4, 6, 9]\n",
    "\n",
    "count = 1\n",
    "\n",
    "L= [2,6,7,8,inf]\n",
    "R=[X,4,6,9,inf]\n",
    "A = [\"1\",2,6,7,8,4,6,9]\n",
    "\n",
    "i=1 j=2\n",
    "count = 2\n",
    "\n",
    "L= [X,6,7,8,inf]\n",
    "R=[X,4,6,9,inf]\n",
    "A = [\"1\",\"2\",6,7,8,4,6,9]\n",
    "\n",
    "i= 2 j=2\n",
    "count = 3\n",
    "\n",
    "L= [X,6,7,8,inf]\n",
    "R=[X,X,6,9,inf]\n",
    "A = [\"1\",\"2\",\"4\",6,7,8,6,9]\n",
    "\n",
    "i= 2 j=3\n",
    "count = 3\n",
    "\n",
    "L= [X,X,7,8,inf]\n",
    "R=[X,X,X,9,inf]\n",
    "A = [\"1\",\"2\",\"4\",\"6\",\"6\",7,8,9]\n",
    "\n",
    "i= 3 j=3\n",
    "count = 4\n",
    "\n",
    "L= [X,X,X,8,inf]\n",
    "R=[X,X,X,9,inf]\n",
    "A = [\"1\",\"2\",\"4\",\"6\",\"6\",\"7\",8,9]\n",
    "\n",
    "i= 3 j=3\n",
    "count = 5\n",
    "\n",
    "L= [X,X,X,X,inf]\n",
    "R=[X,X,X,9,inf]\n",
    "A = [\"1\",\"2\",\"4\",\"6\",\"6\",\"7\",\"8\",9]\n",
    "\n",
    "i= 4 j=3\n",
    "count = 6\n",
    "\n",
    "L= [X,X,X,X,inf]\n",
    "R=[X,X,X,X,inf]\n",
    "A = [\"1\",\"2\",\"4\",\"6\",\"6\",\"7\",\"8\",\"9\"]\n",
    "\n",
    "i= 4 j=4\n",
    "count = 6\n",
    "\n"
   ]
  },
  {
   "cell_type": "markdown",
   "metadata": {
    "deletable": false,
    "editable": false,
    "nbgrader": {
     "checksum": "7c9608898d23ecbe07c084ca6d6da655",
     "grade": false,
     "grade_id": "cell-6dd1317d1ea8ab9f",
     "locked": true,
     "schema_version": 1,
     "solution": false
    }
   },
   "source": [
    "## Question 2 [time estimate: 5 minutes]\n",
    "Now using your understanding of Part I of the merge algorithm, can you think of an efficient way to implement this part in Python? (hint: using Python lists). Give your answer in prose in the cell below."
   ]
  },
  {
   "cell_type": "markdown",
   "metadata": {
    "deletable": false,
    "nbgrader": {
     "checksum": "9bf35550640c33f366c5cffad7fdf33a",
     "grade": true,
     "grade_id": "cell-4f961721620a6645",
     "locked": false,
     "points": 0,
     "schema_version": 1,
     "solution": true
    }
   },
   "source": [
    "In Python, part 1 can be implemented by first inputting the list to be sorted and dividing it into two (n1 and n2). Then two arrays L and R can be created by specifying the indices of the starting, mid and ending positions of the list (found via the len function after finding the length of the initial list to be sorted). The for n in range function may be used to specify the lengths of the same. The modulous operator can help to check if the list is even/odd and move forward accordingly (if odd add+1 to make even and divide into L and R. Numpy inf may be used to set the sentinels at given indices to infinity in python."
   ]
  },
  {
   "cell_type": "markdown",
   "metadata": {
    "deletable": false,
    "editable": false,
    "nbgrader": {
     "checksum": "010584ea3a4f00fba43b52bb04cd0ed2",
     "grade": false,
     "grade_id": "cell-84932c7c0c20b750",
     "locked": true,
     "schema_version": 1,
     "solution": false
    }
   },
   "source": [
    "## Question 3 [time estimate: 20 minutes]\n",
    "\n",
    "Write a Python implementation of the merge pseudocode (both parts). Your Python function must take the same four input arguments as described in the $MERGE(A,p,q,r)$. Test your code by running the example in problem 1 and 2 of this pre-class work. Feel free to come up with additional cases to check if your code is working properly. Your code should return A.\n",
    "\n",
    "**Note**: Please note that the pseudocde in Cormen et. al. works with the indexing convention starting at 1; in Python we will use the customary indexing convention starting at 0."
   ]
  },
  {
   "cell_type": "code",
   "execution_count": 4,
   "metadata": {
    "deletable": false,
    "nbgrader": {
     "checksum": "43760e27d0b385c30476353b3d546a79",
     "grade": false,
     "grade_id": "cell-a67719d65c1ac9f3",
     "locked": false,
     "schema_version": 1,
     "solution": true
    }
   },
   "outputs": [
    {
     "data": {
      "text/plain": [
       "array([1, 2, 3, 4, 5, 6])"
      ]
     },
     "execution_count": 4,
     "metadata": {},
     "output_type": "execute_result"
    }
   ],
   "source": [
    "def merge(A, p, q, r):\n",
    "    import numpy as np\n",
    "    #numpy imported as np for math functions used in code\n",
    "    A = np.array(A)\n",
    "    L = np.append(A[p:q+1], np.inf) \n",
    "    #An array by the name A is created, L includes this array upto the midpoint q. \n",
    "    #This is denoted as q+1 due to the way python indexes. The sentinel is also denoted by appending to infinity\n",
    "    R = np.append(A[q+1:r+1], np.inf) \n",
    "    #R is the right hand side and takes values from the midpoint till the end of the list\n",
    "    #the last number is again a sentinel defined as infinity\n",
    "    i, j = 0, 0\n",
    "    #starting/initialising variables i and j as 0\n",
    "    for k in range(p, r+1):\n",
    "        #deals with values of k from p to r+1\n",
    "        if L[i] <= R[j]:\n",
    "            #compares the index value of L with R (top value)\n",
    "            A[k] = L[i]\n",
    "            #given that L[i] is smaller, it is added to A the sorted list\n",
    "            i += 1\n",
    "            # i is incremented \n",
    "        else:\n",
    "            A[k] = R[j]\n",
    "            #otherwise j is added to A\n",
    "            j += 1\n",
    "            #and thus j is incremented\n",
    "    return A\n",
    "    raise NotImplementedError()\n",
    "merge([1,3,4,2,5,6], 0, 2, 5)\n",
    "    "
   ]
  },
  {
   "cell_type": "code",
   "execution_count": null,
   "metadata": {
    "deletable": false,
    "editable": false,
    "nbgrader": {
     "checksum": "699908274975a6bff4f9fb021e666ce4",
     "grade": true,
     "grade_id": "cell-e98759fe14428af0",
     "locked": true,
     "points": 0,
     "schema_version": 1,
     "solution": false
    }
   },
   "outputs": [],
   "source": [
    "# Please ignore this cell. This cell is for us to implement the tests \n",
    "# to see if your code works properly. "
   ]
  },
  {
   "cell_type": "markdown",
   "metadata": {
    "deletable": false,
    "nbgrader": {
     "checksum": "b2d80ef5c8845de0122c6420b853605d",
     "grade": false,
     "grade_id": "cell-49f3f61ee6d72bb9",
     "locked": true,
     "schema_version": 1,
     "solution": false
    }
   },
   "source": [
    "## Question 4 [time estimate: 5 minutes]\n",
    "\n",
    "Suppose that your Python implementation of the merge algorithm is already working. Read and comment the code for merge sort below:"
   ]
  },
  {
   "cell_type": "code",
   "execution_count": 5,
   "metadata": {
    "deletable": false,
    "nbgrader": {
     "checksum": "53611abb1448334a346783091382fb12",
     "grade": false,
     "grade_id": "cell-073a21c6aac8225e",
     "locked": true,
     "schema_version": 1,
     "solution": false
    }
   },
   "outputs": [],
   "source": [
    "def merge_sort(A,p,r):\n",
    "    if p < r:\n",
    "        #ensures that p is less than r and so at least one element is present in the array\n",
    "        q = (p+r)//2\n",
    "        #defines the index for the midpoint of A\n",
    "        merge_sort(A,p,q)\n",
    "        #defines the left side of the array from p to q\n",
    "        merge_sort(A,q+1,r)\n",
    "        #defines the right side of array from the number next to q to the last r\n",
    "        merge(A,p,q,r)\n",
    "        #this joins both the right hand an dleft hand side of the sorted array\n",
    "    return(A)"
   ]
  },
  {
   "cell_type": "code",
   "execution_count": null,
   "metadata": {
    "deletable": false,
    "editable": false,
    "nbgrader": {
     "checksum": "35fbb3c437b3ba39ede0d87d6719223b",
     "grade": true,
     "grade_id": "cell-a3a71f67390c1f82",
     "locked": true,
     "points": 0,
     "schema_version": 1,
     "solution": false
    }
   },
   "outputs": [],
   "source": [
    "# Please ignore this cell. This cell is for us to implement the tests \n",
    "# to see if your code works properly. "
   ]
  },
  {
   "cell_type": "markdown",
   "metadata": {
    "deletable": false,
    "nbgrader": {
     "checksum": "61cfba995efe3c9c37092a650047fdf3",
     "grade": false,
     "grade_id": "cell-5b296f793fefdbfe",
     "locked": true,
     "schema_version": 1,
     "solution": false
    }
   },
   "source": [
    "## Question 5 [time estimate: 15 minutes]\n",
    "Count the number of steps and time your merge_sort() function with the following input: `list_k = [i for i in range(100*k, 0, -1)] `, where $k= 1, 2, 3, …, 15 $. If you are not familiar with what this piece of code is doing, you may want to check the \"List Comprehension\" section in this [Python Help Sheet](https://drive.google.com/open?id=1paW2ByiraoDQViie0gGxApRN9DKbjHGx).\n"
   ]
  },
  {
   "cell_type": "code",
   "execution_count": 9,
   "metadata": {
    "deletable": false,
    "nbgrader": {
     "checksum": "cc3f59157e795d05422e849f3e7cc03a",
     "grade": true,
     "grade_id": "cell-8a4233ab58d3d0bb",
     "locked": false,
     "points": 0,
     "schema_version": 1,
     "solution": true
    }
   },
   "outputs": [
    {
     "ename": "SyntaxError",
     "evalue": "invalid character in identifier (<ipython-input-9-c7628eb8efe7>, line 32)",
     "output_type": "error",
     "traceback": [
      "\u001b[1;36m  File \u001b[1;32m\"<ipython-input-9-c7628eb8efe7>\"\u001b[1;36m, line \u001b[1;32m32\u001b[0m\n\u001b[1;33m    print(f”This operation took {round(b-a, 2)} seconds.”)\u001b[0m\n\u001b[1;37m               ^\u001b[0m\n\u001b[1;31mSyntaxError\u001b[0m\u001b[1;31m:\u001b[0m invalid character in identifier\n"
     ]
    }
   ],
   "source": [
    "# YOUR CODE HERE\n",
    "import time\n",
    "a = time.time() # storing the starting time in variable a\n",
    "my_list = [i for i in range(1000000)] # <--Line being timed\n",
    "b = time.time() # storing the ending time in variable b\n",
    "import numpy as np\n",
    "    #numpy imported as np for math functions used in code\n",
    "A = np.array(A)\n",
    "L = np.append(A[p:q+1], np.inf) \n",
    "    #An array by the name A is created, L includes this array upto the midpoint q. \n",
    "    #This is denoted as q+1 due to the way python indexes. The sentinel is also denoted by appending to infinity\n",
    "R = np.append(A[q+1:r+1], np.inf) \n",
    "    #R is the right hand side and takes values from the midpoint till the end of the list\n",
    "    #the last number is again a sentinel defined as infinity\n",
    "i, j = 0, 0\n",
    "    #starting/initialising variables i and j as 0\n",
    "for k in range(p, r+1):\n",
    "        #deals with values of k from p to r+1\n",
    "    if L[i] <= R[j]:\n",
    "            #compares the index value of L with R (top value)\n",
    "            A[k] = L[i]\n",
    "            #given that L[i] is smaller, it is added to A the sorted list\n",
    "            i += 1\n",
    "            # i is incremented \n",
    "    else:\n",
    "            A[k] = R[j]\n",
    "            #otherwise j is added to A\n",
    "            j += 1\n",
    "        #and thus j is incremented\n",
    "return A\n",
    "raise NotImplementedError()\n",
    "print(f”This operation took {round(b-a, 2)} seconds.”)\n",
    "\n",
    "\n",
    "raise NotImplementedError()\n"
   ]
  },
  {
   "cell_type": "markdown",
   "metadata": {
    "deletable": false,
    "editable": false
   },
   "source": [
    "## Question 6 [time estimate: 25 minutes] \n",
    "Use the code you wrote for Lesson \"Measuring algorithms' efficiency\" (i.e., selection sort, bubble sort, insertion sort). Plot the following graphs:\n",
    "* **Graph 1**: 4 lines for **the number of steps** of each of the 4 sorting algorithms (i.e., selection sort, bubble sort, insertion sort, merge sort). Which algorithm performs best? Why? \n",
    "* **Graph 2**: 4 lines for **the timing** of each of the 4 sorting algorithms (i.e., selection sort, bubble sort, insertion sort, merge sort). Which algorithm performs best? Why?\n",
    "\n",
    "Use as many cells as you wish (code cells or markdown cells alike) to complete this question.\n",
    "\n",
    "You may find the section \"Simple 2-Dimensional Plots in Python\" in this [Python Help Sheet](https://drive.google.com/open?id=1paW2ByiraoDQViie0gGxApRN9DKbjHGx) helpful."
   ]
  },
  {
   "cell_type": "code",
   "execution_count": null,
   "metadata": {
    "deletable": false,
    "nbgrader": {
     "checksum": "0561f29260f91795736500d62066a4c7",
     "grade": true,
     "grade_id": "cell-d09efb7c7fe55e69",
     "locked": false,
     "points": 0,
     "schema_version": 1,
     "solution": true
    }
   },
   "outputs": [],
   "source": [
    "# YOUR CODE HERE\n",
    "def insertion_sort(A):\n",
    "    count = 0 \n",
    "    #this is astep counter \n",
    "    for j in range(1, len(A)):\n",
    "        key = A[j]\n",
    "        i= j-1\n",
    "        while i >= 0 and A[i]>key:\n",
    "            count += 1 \n",
    "            #increments counter \n",
    "            A[i+1] = A[i]\n",
    "            i -= 1\n",
    "        A[i+1] = key\n",
    "    return A, count \n",
    "#returns number of counts along with the sorted array\n",
    "    raise NotImplementedError()\n",
    "    \n",
    "    \n",
    "def bubble_sort(A):\n",
    "    count = 0 \n",
    "    #initializes step counter \n",
    "    for i in range(0, len(A)-1):\n",
    "        for j in range(len(A)-1, i+1, -1):\n",
    "            count += 1 #increments steps for every iteration in the inner for loop\n",
    "            if A[j] < A[j-1]:\n",
    "                A[j], A[j-1] = A[j-1], A[j]\n",
    "    return A, count # returns number of steps along with sorted array\n",
    "\n",
    "def selection_sort(A):\n",
    "    count = 0 \n",
    "    #this initializes step counter\n",
    "    n = len(A)\n",
    "    for i in range(0, n-1):\n",
    "        minidx = i\n",
    "        for j in range(i + 1, n):\n",
    "            count += 1 \n",
    "            # increments steps for every iteration in the inner for loop\n",
    "            if A[j] < A[minidx]:\n",
    "                minidx = j\n",
    "        A[j], A[minidx] = A[minidx], A[j]\n",
    "    return A, count # returns number of steps along with sorted array\n",
    "raise NotImplementedError()"
   ]
  },
  {
   "cell_type": "code",
   "execution_count": null,
   "metadata": {},
   "outputs": [],
   "source": []
  },
  {
   "cell_type": "code",
   "execution_count": null,
   "metadata": {},
   "outputs": [],
   "source": []
  }
 ],
 "metadata": {
  "celltoolbar": "Edit Metadata",
  "kernelspec": {
   "display_name": "Python 3",
   "language": "python",
   "name": "python3"
  },
  "language_info": {
   "codemirror_mode": {
    "name": "ipython",
    "version": 3
   },
   "file_extension": ".py",
   "mimetype": "text/x-python",
   "name": "python",
   "nbconvert_exporter": "python",
   "pygments_lexer": "ipython3",
   "version": "3.7.3"
  }
 },
 "nbformat": 4,
 "nbformat_minor": 2
}
